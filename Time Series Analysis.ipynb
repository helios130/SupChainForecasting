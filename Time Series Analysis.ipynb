{
 "metadata": {
  "language_info": {
   "codemirror_mode": {
    "name": "ipython",
    "version": 3
   },
   "file_extension": ".py",
   "mimetype": "text/x-python",
   "name": "python",
   "nbconvert_exporter": "python",
   "pygments_lexer": "ipython3",
   "version": "3.9.5"
  },
  "orig_nbformat": 4,
  "kernelspec": {
   "name": "python3",
   "display_name": "Python 3.9.5 64-bit ('3.9')"
  },
  "interpreter": {
   "hash": "7812ea015bdcee6f23a998adcdd2ef97c151c0c241b7b7070987d9313e41299d"
  }
 },
 "nbformat": 4,
 "nbformat_minor": 2,
 "cells": [
  {
   "cell_type": "code",
   "execution_count": null,
   "metadata": {},
   "outputs": [],
   "source": [
    "# read csv file\n",
    "import pandas as pd\n",
    "import numpy as np \n",
    "# Load the cleaned sales dataset\n",
    "data = pd.read_csv(\"/Users/yangn/Desktop/CIND 820/sales_clean.csv\")\n",
    "data.head(n=10)\n",
    "data.info()"
   ]
  },
  {
   "cell_type": "code",
   "execution_count": null,
   "metadata": {},
   "outputs": [],
   "source": [
    "data['order date'] = pd.to_datetime(data['order date (DateOrders)'])\n",
    "data.set_index('order date', inplace=True)\n",
    "data.index"
   ]
  },
  {
   "cell_type": "code",
   "execution_count": null,
   "metadata": {},
   "outputs": [],
   "source": [
    "data['Department Name'] = data['Department Name'].astype('category')\n",
    "data['Department Name'].value_counts()"
   ]
  },
  {
   "cell_type": "code",
   "execution_count": null,
   "metadata": {},
   "outputs": [],
   "source": [
    "#Split file by department name, and taking Fanshop for analysis as it's top sales department\n",
    "Fanshop = data.loc[data['Department Name'] == 'Fan Shop']\n",
    "#Fanshop = Fanshop[[\"order date (DateOrders)\",\"Order Item Total\"]]\n",
    "Fanshop = Fanshop.groupby('order date')['Order Item Total'].sum().reset_index()\n",
    "Fanshop.info()"
   ]
  },
  {
   "cell_type": "code",
   "execution_count": null,
   "metadata": {},
   "outputs": [],
   "source": [
    "Fanshop[\"order date\"]= pd.DatetimeIndex.date(Fanshop[\"order date\"])\n",
    "Fanshop.head()"
   ]
  },
  {
   "cell_type": "code",
   "execution_count": null,
   "metadata": {},
   "outputs": [],
   "source": [
    "# create 12 month moving average\n",
    "Fanshop['MA12'] = Fanshop['Order Item Total'].rolling(12).mean()\n",
    "# plot the data and MA\n",
    "import plotly.express as px\n",
    "fig = px.line(Fanshop, x=\"order date\", y=[\"Order Item Total\",\"MA12\"])\n",
    "fig.show()"
   ]
  },
  {
   "cell_type": "code",
   "execution_count": null,
   "metadata": {},
   "outputs": [],
   "source": [
    "# extract month and year from dates\n",
    "Fanshop['Month'] = [i.month for i in Fanshop['order date']]\n",
    "Fanshop['Year'] = [i.year for i in Fanshop['order date']]\n",
    "# create a sequence of numbers\n",
    "Fanshop['Series'] = np.arange(1,len(Fanshop)+1)\n",
    "# drop unnecessary columns and re-arrange\n",
    "Fanshop.drop(['order date', 'MA12'], axis=1, inplace=True)\n",
    "df = Fanshop[['Series', 'Year', 'Month', 'Order Item Total']] \n",
    "# check the head of the dataset\n",
    "df.head()"
   ]
  },
  {
   "cell_type": "code",
   "execution_count": null,
   "metadata": {},
   "outputs": [],
   "source": [
    "# split data into train-test set\n",
    "train = df[df['Year'] < 2017]\n",
    "test = df[df['Year'] >= 2017]\n",
    "# check shape\n",
    "train.shape, test.shape"
   ]
  },
  {
   "cell_type": "code",
   "execution_count": null,
   "metadata": {},
   "outputs": [],
   "source": []
  }
 ]
}